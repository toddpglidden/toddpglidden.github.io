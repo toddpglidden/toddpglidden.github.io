{
  "nbformat": 4,
  "nbformat_minor": 0,
  "metadata": {
    "colab": {
      "provenance": [],
      "authorship_tag": "ABX9TyMVQqfTPCqoIA+FB3sOkCTK",
      "include_colab_link": true
    },
    "kernelspec": {
      "name": "python3",
      "display_name": "Python 3"
    },
    "language_info": {
      "name": "python"
    }
  },
  "cells": [
    {
      "cell_type": "markdown",
      "metadata": {
        "id": "view-in-github",
        "colab_type": "text"
      },
      "source": [
        "<a href=\"https://colab.research.google.com/github/toddpglidden/toddpglidden.github.io/blob/main/Hacker_Statistics.ipynb\" target=\"_parent\"><img src=\"https://colab.research.google.com/assets/colab-badge.svg\" alt=\"Open In Colab\"/></a>"
      ]
    },
    {
      "cell_type": "markdown",
      "source": [
        "Datacamp, Intermediate Python, Case Study\n",
        "\n",
        "What are the chances of getting to at least step 60 when you play a dice game that works as follows?\n",
        "\n",
        "You throw a die one hundred times. If it's 1 or 2 you'll go one step down. If it's 3, 4, or 5, you'll go one step up. If you throw a 6, you'll throw the die again and will walk up the resulting number of steps.\n",
        "\n",
        "You can not go lower than step number 0. Also, you have a chance of 0.1% of falling down the stairs when you make a move. Falling down means that you have to start again from step 0."
      ],
      "metadata": {
        "id": "3o0tt5jll952"
      }
    },
    {
      "cell_type": "code",
      "execution_count": 3,
      "metadata": {
        "id": "sfzdpIt9l5Ml"
      },
      "outputs": [],
      "source": [
        "import numpy as np\n",
        "import matplotlib.pyplot as plt"
      ]
    },
    {
      "cell_type": "code",
      "source": [
        "np.random.seed(42)"
      ],
      "metadata": {
        "id": "xG_ET2W-mMWk"
      },
      "execution_count": 2,
      "outputs": []
    },
    {
      "cell_type": "code",
      "source": [
        "# Simulate a run of the game 10000 times\n",
        "all_walks = [] # Keep track of all game outcomes\n",
        "for i in range(10000) :\n",
        "    random_walk = [0] # Keep track of outcomes during each simulation\n",
        "    for x in range(100) : # Roll the die 100 times\n",
        "        step = random_walk[-1] # Start with the last item in the list\n",
        "        dice = np.random.randint(1,7) # Simulate a roll of the die\n",
        "        if dice <= 2:\n",
        "            step = max(0, step - 1) # Make sure you never go below 0\n",
        "        elif dice <= 5:\n",
        "            step = step + 1\n",
        "        else:\n",
        "            step = step + np.random.randint(1,7)\n",
        "        if np.random.rand() <= 0.001 : # Simulate falling down\n",
        "            step = 0\n",
        "        random_walk.append(step) # Record the outcome\n",
        "    all_walks.append(random_walk) # Record the outcome of that run\n",
        "\n",
        "# Plot of all walks\n",
        "np_aw_t = np.transpose(np.array(all_walks))\n",
        "\n",
        "# The last row of np_aw_t is the step you landed on in each game\n",
        "outcomes = np_aw_t[-1,:]\n",
        "\n",
        "# Plot histogram of outcomes\n",
        "plt.hist(outcomes)\n",
        "plt.title('Distribution of Game Outcomes')\n",
        "plt.xlabel('Steps')\n",
        "plt.ylabel('Frequency')\n",
        "plt.show()"
      ],
      "metadata": {
        "colab": {
          "base_uri": "https://localhost:8080/",
          "height": 472
        },
        "id": "5nO0JBO6vbfR",
        "outputId": "e8404736-074b-453a-a5b9-2af577ce8f9a"
      },
      "execution_count": 13,
      "outputs": [
        {
          "output_type": "display_data",
          "data": {
            "text/plain": [
              "<Figure size 640x480 with 1 Axes>"
            ],
            "image/png": "[encoded data removed]"
          },
          "metadata": {}
        }
      ]
    },
    {
      "cell_type": "code",
      "source": [
        "# What percent of the time did you get to step 60 or higher?\n",
        "count = 0\n",
        "for score in outcomes:\n",
        "  if score >= 60:\n",
        "    count += 1\n",
        "print(count/len(outcomes))"
      ],
      "metadata": {
        "colab": {
          "base_uri": "https://localhost:8080/"
        },
        "id": "NkrVaq5RwyqZ",
        "outputId": "fb91b217-403c-4b8c-8d68-88e61e6da9b1"
      },
      "execution_count": 7,
      "outputs": [
        {
          "output_type": "stream",
          "name": "stdout",
          "text": [
            "0.766\n"
          ]
        }
      ]
    },
    {
      "cell_type": "markdown",
      "source": [
        "About 77% of the time you would get to step 60 or higher"
      ],
      "metadata": {
        "id": "Hrdj3Bn6xQU-"
      }
    }
  ]
}